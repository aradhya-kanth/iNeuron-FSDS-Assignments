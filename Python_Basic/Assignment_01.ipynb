{
 "cells": [
  {
   "cell_type": "markdown",
   "id": "f416d402",
   "metadata": {},
   "source": [
    "# Assignment 1"
   ]
  },
  {
   "cell_type": "markdown",
   "id": "0249848a",
   "metadata": {},
   "source": [
    "#### 1. In the below elements which of them are values or an expression? eg:- values can be integer or string and expressions will be mathematical operators. *, 'hello', -87.8, -, /, +, 6"
   ]
  },
  {
   "cell_type": "markdown",
   "id": "00787ccd",
   "metadata": {},
   "source": [
    "#### Ans\n",
    "values: 'hello', -87.8, 6\n",
    "expression: *, -, /, +"
   ]
  },
  {
   "cell_type": "markdown",
   "id": "1db74337",
   "metadata": {},
   "source": [
    "#### 2. What is the difference between string and variable?"
   ]
  },
  {
   "cell_type": "markdown",
   "id": "0bba01ee",
   "metadata": {},
   "source": [
    "#### Ans\n",
    "String : It is a datatype or we can say a type of information that can be stored in a variable.\n",
    "Variable : It is a container which can store information or data of any different types.\n",
    "###### e.g\n",
    "x = \"hello world\"\n",
    "y = 4\n",
    "here, x is a variable which stores string and y is also variable that stores integer.\n",
    "      where as \"hello world\" is string which is to be stored in x."
   ]
  },
  {
   "cell_type": "markdown",
   "id": "f7b18a86",
   "metadata": {},
   "source": [
    "### 3. Describe three different data types."
   ]
  },
  {
   "cell_type": "markdown",
   "id": "a665f6af",
   "metadata": {},
   "source": [
    "#### Ans\n",
    "###### int :\n",
    "It is a datatype which store integer data (whole numbers).\n",
    "###### float :\n",
    "It is a datatype which store decimel data.\n",
    "###### string :\n",
    "it is a datatype which store a character or collections of character."
   ]
  },
  {
   "cell_type": "markdown",
   "id": "411d1df6",
   "metadata": {},
   "source": [
    "### 4. What is an expression made up of? What do all expressions do?"
   ]
  },
  {
   "cell_type": "markdown",
   "id": "6fde1e93",
   "metadata": {},
   "source": [
    "### Ans\n",
    "An expression is combinations of data, operators and functions which gives some sort of result after evaluation."
   ]
  },
  {
   "cell_type": "markdown",
   "id": "210a8920",
   "metadata": {},
   "source": [
    "### 5. This assignment statements, like spam = 10. What is the difference between an expression and a statement?"
   ]
  },
  {
   "cell_type": "markdown",
   "id": "2a86d610",
   "metadata": {},
   "source": [
    "### Ans\n",
    "###### Expresion\n",
    "As I stated above, an expression is combinations of data, operators, functions which gives some result after evaluation.\n",
    "###### Statement\n",
    "A statement is block of code which contains many expressions, functions, some logics etc."
   ]
  },
  {
   "cell_type": "markdown",
   "id": "04b93659",
   "metadata": {},
   "source": [
    "### 6. After running the following code, what does the variable bacon contain? bacon = 22 bacon + 1"
   ]
  },
  {
   "cell_type": "markdown",
   "id": "90de245c",
   "metadata": {},
   "source": [
    "### Ans\n",
    "It contain 22 because after incrementing 1 to the bacon variable, it doesn't re-assign the value into bacon."
   ]
  },
  {
   "cell_type": "code",
   "execution_count": 1,
   "id": "3ecb0ebf",
   "metadata": {},
   "outputs": [
    {
     "name": "stdout",
     "output_type": "stream",
     "text": [
      "22\n"
     ]
    }
   ],
   "source": [
    "bacon = 22\n",
    "bacon+1\n",
    "print(bacon)"
   ]
  },
  {
   "cell_type": "markdown",
   "id": "0b8a32cd",
   "metadata": {},
   "source": [
    "### 7. What should the values of the following two terms be? 'spam' + 'spamspam'   'spam' * 3"
   ]
  },
  {
   "cell_type": "markdown",
   "id": "f820fdd2",
   "metadata": {},
   "source": [
    "### Ans\n",
    "Both terms display same result as : spamspamspam"
   ]
  },
  {
   "cell_type": "code",
   "execution_count": 2,
   "id": "bbde1ed3",
   "metadata": {},
   "outputs": [
    {
     "name": "stdout",
     "output_type": "stream",
     "text": [
      "spamspamspam\n",
      "spamspamspam\n"
     ]
    }
   ],
   "source": [
    "x = 'spam' + 'spamspam'\n",
    "y= 'spam'*3\n",
    "print(x)\n",
    "print(y)"
   ]
  },
  {
   "cell_type": "markdown",
   "id": "9f92c830",
   "metadata": {},
   "source": [
    "### 8. Why is eggs a valid variable name while 100 is invalid?"
   ]
  },
  {
   "cell_type": "markdown",
   "id": "68f8218c",
   "metadata": {},
   "source": [
    "### Ans \n",
    "It is due the rule of python that says a variable name can't begins with a number.\n",
    "A variable name can begins with alphabetical letter or underscore.\n",
    "So, here 100 is invalid whereas eggs is valid variable name."
   ]
  },
  {
   "cell_type": "markdown",
   "id": "14603a30",
   "metadata": {},
   "source": [
    "### 9. What three functions can be used to get the integer, floating-point number, or string version of a value?"
   ]
  },
  {
   "cell_type": "markdown",
   "id": "b40cdc02",
   "metadata": {},
   "source": [
    "### Ans\n",
    "int(), float(), str() are used to get the integer, floating-point number, or string version of a value."
   ]
  },
  {
   "cell_type": "code",
   "execution_count": 3,
   "id": "882b5b3f",
   "metadata": {},
   "outputs": [
    {
     "name": "stdout",
     "output_type": "stream",
     "text": [
      "123\n",
      "<class 'int'>\n",
      "123.34\n",
      "<class 'float'>\n",
      "123.34\n",
      "<class 'str'>\n"
     ]
    }
   ],
   "source": [
    "x = 123.34\n",
    "\n",
    "z = int(x)\n",
    "y = float(x)\n",
    "w = str(x)\n",
    "\n",
    "print(z)\n",
    "print(type(z))\n",
    "\n",
    "print(y)\n",
    "print(type(y))\n",
    "\n",
    "print(w)\n",
    "print(type(w))"
   ]
  },
  {
   "cell_type": "markdown",
   "id": "2b4ba8f1",
   "metadata": {},
   "source": [
    "### 10. Why does this expression cause an error? How can you fix it? 'I have eaten' + 99 + 'burritos.'"
   ]
  },
  {
   "cell_type": "markdown",
   "id": "38f83746",
   "metadata": {},
   "source": [
    "### Ans\n",
    "It is due the fact that a string can't be concatenate with a number.\n",
    "here, 99 is a number and 'I have eaten', 'burritos.' are a string. We are doing to concatenate 'I have eaten',  99 , 'burritos.' "
   ]
  },
  {
   "cell_type": "code",
   "execution_count": 4,
   "id": "b4d5d1d1",
   "metadata": {},
   "outputs": [
    {
     "ename": "TypeError",
     "evalue": "can only concatenate str (not \"int\") to str",
     "output_type": "error",
     "traceback": [
      "\u001b[1;31m---------------------------------------------------------------------------\u001b[0m",
      "\u001b[1;31mTypeError\u001b[0m                                 Traceback (most recent call last)",
      "Input \u001b[1;32mIn [4]\u001b[0m, in \u001b[0;36m<cell line: 1>\u001b[1;34m()\u001b[0m\n\u001b[1;32m----> 1\u001b[0m \u001b[38;5;124;43m'\u001b[39;49m\u001b[38;5;124;43mI have eaten\u001b[39;49m\u001b[38;5;124;43m'\u001b[39;49m\u001b[43m \u001b[49m\u001b[38;5;241;43m+\u001b[39;49m\u001b[43m \u001b[49m\u001b[38;5;241;43m99\u001b[39;49m \u001b[38;5;241m+\u001b[39m \u001b[38;5;124m'\u001b[39m\u001b[38;5;124mburritos.\u001b[39m\u001b[38;5;124m'\u001b[39m\n",
      "\u001b[1;31mTypeError\u001b[0m: can only concatenate str (not \"int\") to str"
     ]
    }
   ],
   "source": [
    "'I have eaten' + 99 + 'burritos.'"
   ]
  }
 ],
 "metadata": {
  "kernelspec": {
   "display_name": "Python 3 (ipykernel)",
   "language": "python",
   "name": "python3"
  },
  "language_info": {
   "codemirror_mode": {
    "name": "ipython",
    "version": 3
   },
   "file_extension": ".py",
   "mimetype": "text/x-python",
   "name": "python",
   "nbconvert_exporter": "python",
   "pygments_lexer": "ipython3",
   "version": "3.9.12"
  }
 },
 "nbformat": 4,
 "nbformat_minor": 5
}
